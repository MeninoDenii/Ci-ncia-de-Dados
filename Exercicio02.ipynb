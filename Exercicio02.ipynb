{
 "cells": [
  {
   "cell_type": "markdown",
   "metadata": {},
   "source": [
    "# Introdução à Ciência de Dados - UFPB\n",
    "Professor: Yuri Malheiros\n",
    "\n",
    "## Python - Random - Exercício"
   ]
  },
  {
   "cell_type": "markdown",
   "metadata": {},
   "source": [
    "Implemente a função `generate_password` que deve gerar uma senha aleatória.\n",
    "\n",
    "A função tem tres parâmetros:\n",
    "\n",
    "- `n_chars` especifica o tamanho da senha gerada\n",
    "- `use_numbers` especifica se números podem ser usados na senha. Por padrão, esse parâmetro tem valor True\n",
    "- `use_special_chars` especifica se caracteres especiais, por exemplo !#%&@?, pode ser usados na senha. Por padrão, esse parâmetro tem valor True\n",
    "\n",
    "Note que se `use_numbers` e `use_special_chars` tiverem valor False, a senha terá apenas letras maiúsculas ou minúsculas."
   ]
  },
  {
   "cell_type": "code",
   "execution_count": 3,
   "metadata": {},
   "outputs": [],
   "source": [
    "import string\n",
    "import random\n",
    "\n",
    "def generate_password(n_chars, use_numbers=True, use_special_chars=True):\n",
    "    letters = string.ascii_lowercase\n",
    "    digits = string.digits\n",
    "    chars_specials = string.punctuation\n",
    "\n",
    "    password = \"\"\n",
    "\n",
    "    if use_numbers == True and use_special_chars == True:\n",
    "        for i  in range(n_chars):\n",
    "           sort_letters = random.choice(letters)\n",
    "           sort_number = random.choice(digits)\n",
    "           sort_chars = random.choice(chars_specials)\n",
    "        \n",
    "           list_sort = [sort_letters, sort_number, sort_chars]\n",
    "           position_aleartory = random.randrange(0,len(list_sort))\n",
    "\n",
    "           password += list_sort[position_aleartory]\n",
    "\n",
    "        return password\n",
    "\n",
    "    elif use_numbers == False and use_special_chars == True:\n",
    "        for i in range(n_chars):\n",
    "            sort_letters = random.choice(letters)\n",
    "            sort_chars = random.choice(chars_specials)\n",
    "\n",
    "            list_sort = [sort_letters, sort_chars]\n",
    "            position_aleartory = random.randrange(0,len(list_sort))\n",
    "\n",
    "            password += list_sort[position_aleartory]\n",
    "        \n",
    "        return password\n",
    "\n",
    "    else:\n",
    "        for i in range(n_chars):\n",
    "            sort_letters_lower = random.choice(letters)\n",
    "\n",
    "            list_sort = [sort_letters_lower]\n",
    "            position_aleartory = random.randrange(0,len(list_sort))\n",
    "\n",
    "            password+= list_sort[position_aleartory]\n",
    "        \n",
    "        return password"
   ]
  },
  {
   "cell_type": "code",
   "execution_count": 4,
   "metadata": {},
   "outputs": [
    {
     "name": "stdout",
     "output_type": "stream",
     "text": [
      "g81}^#+*4}\n",
      "y<#?{zt&^t\n",
      "ycuswddvee\n"
     ]
    }
   ],
   "source": [
    "print(generate_password(10))\n",
    "print(generate_password(10, use_numbers=False))\n",
    "print(generate_password(10, use_numbers=False, use_special_chars=False))"
   ]
  },
  {
   "cell_type": "code",
   "execution_count": null,
   "metadata": {},
   "outputs": [],
   "source": []
  }
 ],
 "metadata": {
  "kernelspec": {
   "display_name": "Python 3",
   "language": "python",
   "name": "python3"
  },
  "language_info": {
   "codemirror_mode": {
    "name": "ipython",
    "version": 3
   },
   "file_extension": ".py",
   "mimetype": "text/x-python",
   "name": "python",
   "nbconvert_exporter": "python",
   "pygments_lexer": "ipython3",
   "version": "3.8.2"
  }
 },
 "nbformat": 4,
 "nbformat_minor": 4
}
